{
 "cells": [
  {
   "cell_type": "code",
   "execution_count": 3,
   "id": "8e9342b9",
   "metadata": {},
   "outputs": [],
   "source": [
    "from bs4 import BeautifulSoup\n",
    "from urllib.request import urlopen"
   ]
  },
  {
   "cell_type": "code",
   "execution_count": 7,
   "id": "8c14d5f6",
   "metadata": {},
   "outputs": [],
   "source": [
    "import requests"
   ]
  },
  {
   "cell_type": "markdown",
   "id": "aff845b5",
   "metadata": {},
   "source": [
    "### Prototyping Scraping on Nicola Mirotic"
   ]
  },
  {
   "cell_type": "code",
   "execution_count": 4,
   "id": "8ff162aa",
   "metadata": {},
   "outputs": [],
   "source": [
    "url = \"https://www.euroleague.net/competition/players/showplayer?pcode=000796&seasoncode=E2021#!currentstats\""
   ]
  },
  {
   "cell_type": "code",
   "execution_count": 8,
   "id": "ca574da9",
   "metadata": {},
   "outputs": [],
   "source": [
    "html = requests.get(url)"
   ]
  },
  {
   "cell_type": "code",
   "execution_count": 14,
   "id": "01c864cb",
   "metadata": {},
   "outputs": [],
   "source": [
    "html.text;"
   ]
  },
  {
   "cell_type": "code",
   "execution_count": 17,
   "id": "f8e5af65",
   "metadata": {},
   "outputs": [],
   "source": [
    "soup = BeautifulSoup(html.text, \"html5lib\")"
   ]
  },
  {
   "cell_type": "markdown",
   "id": "6adfb8fc",
   "metadata": {},
   "source": [
    "#### Grabbing player's name"
   ]
  },
  {
   "cell_type": "code",
   "execution_count": 90,
   "id": "5876e695",
   "metadata": {},
   "outputs": [],
   "source": [
    "player_data = soup.find_all(class_=\"player-data\")"
   ]
  },
  {
   "cell_type": "code",
   "execution_count": 91,
   "id": "cefed111",
   "metadata": {},
   "outputs": [
    {
     "data": {
      "text/plain": [
       "'MIROTIC, NIKOLA'"
      ]
     },
     "execution_count": 91,
     "metadata": {},
     "output_type": "execute_result"
    }
   ],
   "source": [
    "player_data[0].find_all(class_=\"name\")[0].get_text()"
   ]
  },
  {
   "cell_type": "markdown",
   "id": "340e6b06",
   "metadata": {},
   "source": [
    "#### Grabbing player's height and DOB"
   ]
  },
  {
   "cell_type": "code",
   "execution_count": 108,
   "id": "9e728dcb",
   "metadata": {},
   "outputs": [],
   "source": [
    "second_summary_spans = player_data[0].find_all(class_='summary-second')[0].find_all(\"span\")"
   ]
  },
  {
   "cell_type": "code",
   "execution_count": 109,
   "id": "9daef61a",
   "metadata": {},
   "outputs": [
    {
     "data": {
      "text/plain": [
       "' 2.08'"
      ]
     },
     "execution_count": 109,
     "metadata": {},
     "output_type": "execute_result"
    }
   ],
   "source": [
    "second_summary_spans[0].get_text().split(\":\")[1]"
   ]
  },
  {
   "cell_type": "code",
   "execution_count": 110,
   "id": "033c8e35",
   "metadata": {},
   "outputs": [
    {
     "data": {
      "text/plain": [
       "' 11 February, 1991'"
      ]
     },
     "execution_count": 110,
     "metadata": {},
     "output_type": "execute_result"
    }
   ],
   "source": [
    "second_summary_spans[1].get_text().split(\":\")[1]"
   ]
  },
  {
   "cell_type": "markdown",
   "id": "08f88d10",
   "metadata": {},
   "source": [
    "#### Grabbing player's position"
   ]
  },
  {
   "cell_type": "code",
   "execution_count": 96,
   "id": "f8bcf6a3",
   "metadata": {},
   "outputs": [],
   "source": [
    "first_summary_spans = player_data[0].find_all(class_=\"summary-first\")[0].find_all(\"span\")"
   ]
  },
  {
   "cell_type": "code",
   "execution_count": 106,
   "id": "153a577f",
   "metadata": {},
   "outputs": [
    {
     "data": {
      "text/plain": [
       "'Forward'"
      ]
     },
     "execution_count": 106,
     "metadata": {},
     "output_type": "execute_result"
    }
   ],
   "source": [
    "first_summary_spans[1].find_all(\"span\")[1].get_text()"
   ]
  },
  {
   "cell_type": "markdown",
   "id": "99a07308",
   "metadata": {},
   "source": [
    "#### Grabbing player's stats"
   ]
  },
  {
   "cell_type": "code",
   "execution_count": 73,
   "id": "1365d11e",
   "metadata": {},
   "outputs": [],
   "source": [
    "stats_table = soup.find('table', id = \"tblPlayerPhaseStatistics\" )"
   ]
  },
  {
   "cell_type": "code",
   "execution_count": 85,
   "id": "39c95671",
   "metadata": {},
   "outputs": [
    {
     "data": {
      "text/plain": [
       "[<td class=\"PlayerTitleColumn\">Totals</td>,\n",
       " <td>9</td>,\n",
       " <td>9</td>,\n",
       " <td>225:39</td>,\n",
       " <td>149</td>,\n",
       " <td>33/51</td>,\n",
       " <td>18/35</td>,\n",
       " <td>29/34</td>,\n",
       " <td>12</td>,\n",
       " <td>39</td>,\n",
       " <td>51</td>,\n",
       " <td>12</td>,\n",
       " <td>12</td>,\n",
       " <td>9</td>,\n",
       " <td>3</td>,\n",
       " <td>1</td>,\n",
       " <td>12</td>,\n",
       " <td>29</td>,\n",
       " <td>194</td>]"
      ]
     },
     "execution_count": 85,
     "metadata": {},
     "output_type": "execute_result"
    }
   ],
   "source": [
    "stats_table.find_all(class_=\"PlayerGridRow\")[0].find_all(\"td\") # Stats"
   ]
  },
  {
   "cell_type": "code",
   "execution_count": 135,
   "id": "81b9d608",
   "metadata": {},
   "outputs": [],
   "source": [
    "stats = stats_table.find_all(class_=\"PlayerGridRow\")[0].find_all(\"td\")"
   ]
  },
  {
   "cell_type": "code",
   "execution_count": 136,
   "id": "d08152cc",
   "metadata": {},
   "outputs": [
    {
     "name": "stdout",
     "output_type": "stream",
     "text": [
      "Totals\n",
      "9\n",
      "9\n",
      "225:39\n",
      "149\n",
      "33/51\n",
      "18/35\n",
      "29/34\n",
      "12\n",
      "39\n",
      "51\n",
      "12\n",
      "12\n",
      "9\n",
      "3\n",
      "1\n",
      "12\n",
      "29\n",
      "194\n"
     ]
    }
   ],
   "source": [
    "for stat in stats:\n",
    "    print(stat.get_text())"
   ]
  },
  {
   "cell_type": "code",
   "execution_count": 137,
   "id": "fdc542e0",
   "metadata": {},
   "outputs": [
    {
     "data": {
      "text/plain": [
       "19"
      ]
     },
     "execution_count": 137,
     "metadata": {},
     "output_type": "execute_result"
    }
   ],
   "source": [
    "len(stats)"
   ]
  },
  {
   "cell_type": "code",
   "execution_count": 131,
   "id": "529f1dac",
   "metadata": {},
   "outputs": [],
   "source": [
    "headers = stats_table.find_all(\"tr\")[1].find_all(\"th\") # headers"
   ]
  },
  {
   "cell_type": "code",
   "execution_count": 132,
   "id": "74fedcbc",
   "metadata": {},
   "outputs": [
    {
     "name": "stdout",
     "output_type": "stream",
     "text": [
      "G\n",
      "GS\n",
      "Min\n",
      "Pts\n",
      "2FG\n",
      "3FG\n",
      "FT\n",
      "O\n",
      "D\n",
      "T\n",
      "As\n",
      "St\n",
      "To\n",
      "Fv\n",
      "Ag\n",
      "Cm\n",
      "Rv\n",
      "PIR\n"
     ]
    }
   ],
   "source": [
    "for header in headers[1:]:\n",
    "    print(header.get_text())"
   ]
  },
  {
   "cell_type": "code",
   "execution_count": 138,
   "id": "472c92f8",
   "metadata": {},
   "outputs": [
    {
     "data": {
      "text/plain": [
       "19"
      ]
     },
     "execution_count": 138,
     "metadata": {},
     "output_type": "execute_result"
    }
   ],
   "source": [
    "len(headers)"
   ]
  },
  {
   "cell_type": "markdown",
   "id": "acda3289",
   "metadata": {},
   "source": [
    "#### Create dictionary with player's stats"
   ]
  },
  {
   "cell_type": "code",
   "execution_count": 190,
   "id": "00ef4af0",
   "metadata": {},
   "outputs": [],
   "source": [
    "def player_dictionary_creation(soup):\n",
    "    player_data_dict = {}\n",
    "    player_data = soup.find_all(class_=\"player-data\")\n",
    "    name_of_player = player_data[0].find_all(class_=\"name\")[0].get_text().split(\",\")\n",
    "    player_data_dict['name'] = name_of_player[1] + \" \" + name_of_player[0]\n",
    "    first_summary_spans = player_data[0].find_all(class_=\"summary-first\")[0].find_all(\"span\")\n",
    "    player_data_dict['position'] = first_summary_spans[1].find_all(\"span\")[1].get_text()\n",
    "    second_summary_spans = player_data[0].find_all(class_='summary-second')[0].find_all(\"span\")\n",
    "    player_data_dict['height'] = second_summary_spans[0].get_text().split(\":\")[1]\n",
    "    player_data_dict['dob'] = second_summary_spans[1].get_text().split(\":\")[1]\n",
    "    stats_table = soup.find('table', id = \"tblPlayerPhaseStatistics\" )\n",
    "    stats = stats_table.find_all(class_=\"PlayerGridRow\")[0].find_all(\"td\")\n",
    "    headers = stats_table.find_all(\"tr\")[1].find_all(\"th\") \n",
    "    for i, (stat, header) in enumerate(zip(stats,headers)):\n",
    "        if i!=0:\n",
    "            player_data_dict[header.get_text()] = stat.get_text()\n",
    "    return player_data_dict"
   ]
  },
  {
   "cell_type": "code",
   "execution_count": 191,
   "id": "8c5e158f",
   "metadata": {},
   "outputs": [],
   "source": [
    "Mirotic_dict = player_dictionary_creation(soup)"
   ]
  },
  {
   "cell_type": "code",
   "execution_count": 192,
   "id": "d9f86a3f",
   "metadata": {},
   "outputs": [
    {
     "data": {
      "text/plain": [
       "{'name': ' NIKOLA MIROTIC',\n",
       " 'position': 'Forward',\n",
       " 'height': ' 2.08',\n",
       " 'dob': ' 11 February, 1991',\n",
       " 'G': '9',\n",
       " 'GS': '9',\n",
       " 'Min': '225:39',\n",
       " 'Pts': '149',\n",
       " '2FG': '33/51',\n",
       " '3FG': '18/35',\n",
       " 'FT': '29/34',\n",
       " 'O': '12',\n",
       " 'D': '39',\n",
       " 'T': '51',\n",
       " 'As': '12',\n",
       " 'St': '12',\n",
       " 'To': '9',\n",
       " 'Fv': '3',\n",
       " 'Ag': '1',\n",
       " 'Cm': '12',\n",
       " 'Rv': '29',\n",
       " 'PIR': '194'}"
      ]
     },
     "execution_count": 192,
     "metadata": {},
     "output_type": "execute_result"
    }
   ],
   "source": [
    "Mirotic_dict"
   ]
  },
  {
   "cell_type": "markdown",
   "id": "d1b5a2ee",
   "metadata": {},
   "source": [
    "### Grabbing all players from leaders table"
   ]
  },
  {
   "cell_type": "markdown",
   "id": "4b33df11",
   "metadata": {},
   "source": [
    "#### Are we allowed to do it?"
   ]
  },
  {
   "cell_type": "code",
   "execution_count": 254,
   "id": "6078b405",
   "metadata": {},
   "outputs": [],
   "source": [
    "robots = requests.get(\"https://www.euroleague.net/robots.txt\")"
   ]
  },
  {
   "cell_type": "code",
   "execution_count": 257,
   "id": "07f35bdd",
   "metadata": {},
   "outputs": [
    {
     "data": {
      "text/plain": [
       "<html><head></head><body>User-agent: Sosospider\n",
       "Disallow: /\n",
       "\n",
       "User-agent: Yandex\n",
       "Disallow: /\n",
       "\n",
       "User-agent: Baiduspider\n",
       "Disallow: /\n",
       "\n",
       "User-agent: *\n",
       "Crawl-delay: 15</body></html>"
      ]
     },
     "execution_count": 257,
     "metadata": {},
     "output_type": "execute_result"
    }
   ],
   "source": [
    "BeautifulSoup(robots.text,\"html5lib\")"
   ]
  },
  {
   "cell_type": "markdown",
   "id": "bb689b4e",
   "metadata": {},
   "source": [
    "#### We are allowed to scrape"
   ]
  },
  {
   "cell_type": "code",
   "execution_count": 193,
   "id": "f6fae31b",
   "metadata": {},
   "outputs": [],
   "source": [
    "url_leaders_1 = \"https://www.euroleague.net/main/statistics?agg=PerGame&mode=Leaders&seasonmode=Single&entity=Players&cat=Score&seasoncode=E2021&page=1\"\n",
    "url_leaders_2 = \"https://www.euroleague.net/main/statistics?agg=PerGame&mode=Leaders&seasonmode=Single&entity=Players&cat=Score&seasoncode=E2021&page=2\""
   ]
  },
  {
   "cell_type": "code",
   "execution_count": 242,
   "id": "aaf96027",
   "metadata": {},
   "outputs": [],
   "source": [
    "html_leaders_2 = requests.get(url_leaders_2)"
   ]
  },
  {
   "cell_type": "code",
   "execution_count": 243,
   "id": "c8f23f70",
   "metadata": {},
   "outputs": [],
   "source": [
    "html_leaders_2.text;"
   ]
  },
  {
   "cell_type": "code",
   "execution_count": 244,
   "id": "e5e3e6a2",
   "metadata": {},
   "outputs": [],
   "source": [
    "soup_leaders_2 = BeautifulSoup(html_leaders_2.text, \"html5lib\")"
   ]
  },
  {
   "cell_type": "markdown",
   "id": "3f263058",
   "metadata": {},
   "source": [
    "#### Grabbing the url of each player"
   ]
  },
  {
   "cell_type": "code",
   "execution_count": 275,
   "id": "c9f24970",
   "metadata": {},
   "outputs": [],
   "source": [
    "player_tags_even = soup_leaders_1.find_all(\"table\")[0].find_all(\"tr\",class_=\"StatsAlternatingGridResults\")"
   ]
  },
  {
   "cell_type": "code",
   "execution_count": 278,
   "id": "9eb4e46e",
   "metadata": {},
   "outputs": [],
   "source": [
    "player_tags_odd = soup_leaders_1.find_all(\"table\")[0].find_all(\"tr\",class_=\"StatsRowAlternatingGridResults\")"
   ]
  },
  {
   "cell_type": "code",
   "execution_count": 282,
   "id": "609083e8",
   "metadata": {},
   "outputs": [
    {
     "data": {
      "text/plain": [
       "'/competition/players/showplayer?pcode=008989&seasoncode=E2021'"
      ]
     },
     "execution_count": 282,
     "metadata": {},
     "output_type": "execute_result"
    }
   ],
   "source": [
    "player_tags_odd[3].find_all(\"a\")[0].get('href')"
   ]
  },
  {
   "cell_type": "code",
   "execution_count": 283,
   "id": "813b7bb0",
   "metadata": {},
   "outputs": [
    {
     "name": "stdout",
     "output_type": "stream",
     "text": [
      "/competition/players/showplayer?pcode=011212&seasoncode=E2021\n",
      "/competition/players/showplayer?pcode=002580&seasoncode=E2021\n",
      "/competition/players/showplayer?pcode=000796&seasoncode=E2021\n",
      "/competition/players/showplayer?pcode=008989&seasoncode=E2021\n",
      "/competition/players/showplayer?pcode=007032&seasoncode=E2021\n",
      "/competition/players/showplayer?pcode=005985&seasoncode=E2021\n",
      "/competition/players/showplayer?pcode=003108&seasoncode=E2021\n",
      "/competition/players/showplayer?pcode=007870&seasoncode=E2021\n",
      "/competition/players/showplayer?pcode=009006&seasoncode=E2021\n",
      "/competition/players/showplayer?pcode=009754&seasoncode=E2021\n",
      "/competition/players/showplayer?pcode=004866&seasoncode=E2021\n",
      "/competition/players/showplayer?pcode=007831&seasoncode=E2021\n",
      "/competition/players/showplayer?pcode=000925&seasoncode=E2021\n",
      "/competition/players/showplayer?pcode=004554&seasoncode=E2021\n",
      "/competition/players/showplayer?pcode=009866&seasoncode=E2021\n",
      "/competition/players/showplayer?pcode=007200&seasoncode=E2021\n",
      "/competition/players/showplayer?pcode=000956&seasoncode=E2021\n",
      "/competition/players/showplayer?pcode=009622&seasoncode=E2021\n",
      "/competition/players/showplayer?pcode=001926&seasoncode=E2021\n",
      "/competition/players/showplayer?pcode=006450&seasoncode=E2021\n",
      "/competition/players/showplayer?pcode=009863&seasoncode=E2021\n",
      "/competition/players/showplayer?pcode=011205&seasoncode=E2021\n",
      "/competition/players/showplayer?pcode=009846&seasoncode=E2021\n",
      "/competition/players/showplayer?pcode=005094&seasoncode=E2021\n",
      "/competition/players/showplayer?pcode=011196&seasoncode=E2021\n"
     ]
    }
   ],
   "source": [
    "for tag in player_tags_odd:\n",
    "    print(tag.find_all(\"a\")[0].get('href'))"
   ]
  },
  {
   "cell_type": "markdown",
   "id": "6f2ef326",
   "metadata": {},
   "source": [
    "#### Putting it all together"
   ]
  },
  {
   "cell_type": "code",
   "execution_count": 252,
   "id": "a37a6ee7",
   "metadata": {},
   "outputs": [],
   "source": [
    "base_url = \"https://www.euroleague.net\"\n",
    "leaders_urls = [url_leaders_1,url_leaders_2]"
   ]
  },
  {
   "cell_type": "code",
   "execution_count": 290,
   "id": "8ee96af9",
   "metadata": {},
   "outputs": [],
   "source": [
    "def players_urls():\n",
    "    players_url_list = []\n",
    "    for url in leaders_urls:\n",
    "        html_leaders = requests.get(url)\n",
    "        soup_leaders = BeautifulSoup(html_leaders.text, \"html5lib\")\n",
    "        player_tags_even = soup_leaders.find_all(\"table\")[0].find_all(\"tr\",class_=\"StatsAlternatingGridResults\")\n",
    "        player_tags_odd = soup_leaders.find_all(\"table\")[0].find_all(\"tr\",class_=\"StatsRowAlternatingGridResults\")\n",
    "        player_tags = player_tags_even + player_tags_odd\n",
    "        players_url_list.extend([tag.find_all(\"a\")[0].get('href') for tag in player_tags])\n",
    "    return players_url_list"
   ]
  },
  {
   "cell_type": "code",
   "execution_count": 291,
   "id": "fbf16225",
   "metadata": {},
   "outputs": [],
   "source": [
    "players_url_list = players_urls()"
   ]
  },
  {
   "cell_type": "code",
   "execution_count": 292,
   "id": "81af84f9",
   "metadata": {},
   "outputs": [
    {
     "data": {
      "text/plain": [
       "76"
      ]
     },
     "execution_count": 292,
     "metadata": {},
     "output_type": "execute_result"
    }
   ],
   "source": [
    "len(players_url_list)"
   ]
  },
  {
   "cell_type": "code",
   "execution_count": 293,
   "id": "629d7e6f",
   "metadata": {},
   "outputs": [],
   "source": [
    "def create_soup(url):\n",
    "    html = requests.get(url)\n",
    "    soup = BeautifulSoup(html.text, \"html5lib\")\n",
    "    return soup"
   ]
  },
  {
   "cell_type": "code",
   "execution_count": 294,
   "id": "814a1f5e",
   "metadata": {},
   "outputs": [],
   "source": [
    "def list_of_player_dicts():\n",
    "    player_list = []\n",
    "    players_url_list = players_urls()\n",
    "    for relative_url in players_url_list:\n",
    "        absolute_url = base_url + relative_url\n",
    "        soup = create_soup(absolute_url)\n",
    "        player_dict = player_dictionary_creation(soup)\n",
    "        player_list.append(player_dict)\n",
    "    return player_list"
   ]
  },
  {
   "cell_type": "code",
   "execution_count": 295,
   "id": "6cc7e751",
   "metadata": {},
   "outputs": [],
   "source": [
    "Player_List = list_of_player_dicts()"
   ]
  },
  {
   "cell_type": "code",
   "execution_count": 296,
   "id": "ce280e6f",
   "metadata": {},
   "outputs": [
    {
     "data": {
      "text/plain": [
       "76"
      ]
     },
     "execution_count": 296,
     "metadata": {},
     "output_type": "execute_result"
    }
   ],
   "source": [
    "len(Player_List)"
   ]
  },
  {
   "cell_type": "code",
   "execution_count": 317,
   "id": "8ac61362",
   "metadata": {},
   "outputs": [
    {
     "data": {
      "text/plain": [
       "[{'name': ' SASHA VEZENKOV',\n",
       "  'position': 'Forward',\n",
       "  'height': ' 2.06',\n",
       "  'dob': ' 6 August, 1995',\n",
       "  'G': '9',\n",
       "  'GS': '9',\n",
       "  'Min': '260:42',\n",
       "  'Pts': '93',\n",
       "  '2FG': '23/44',\n",
       "  '3FG': '11/38',\n",
       "  'FT': '14/19',\n",
       "  'O': '13',\n",
       "  'D': '36',\n",
       "  'T': '49',\n",
       "  'As': '5',\n",
       "  'St': '10',\n",
       "  'To': '4',\n",
       "  'Fv': '3',\n",
       "  'Ag': '3',\n",
       "  'Cm': '13',\n",
       "  'Rv': '22',\n",
       "  'PIR': '109'},\n",
       " {'name': ' MALCOLM DELANEY',\n",
       "  'position': 'Guard',\n",
       "  'height': ' 1.91',\n",
       "  'dob': ' 11 March, 1989',\n",
       "  'G': '5',\n",
       "  'GS': '5',\n",
       "  'Min': '120:53',\n",
       "  'Pts': '51',\n",
       "  '2FG': '7/17',\n",
       "  '3FG': '8/21',\n",
       "  'FT': '13/18',\n",
       "  'O': '2',\n",
       "  'D': '10',\n",
       "  'T': '12',\n",
       "  'As': '16',\n",
       "  'St': '2',\n",
       "  'To': '9',\n",
       "  'Fv': '0',\n",
       "  'Ag': '1',\n",
       "  'Cm': '9',\n",
       "  'Rv': '15',\n",
       "  'PIR': '49'},\n",
       " {'name': ' JANIS STRELNIEKS',\n",
       "  'position': 'Guard',\n",
       "  'height': ' 1.91',\n",
       "  'dob': ' 1 September, 1989',\n",
       "  'G': '7',\n",
       "  'GS': '7',\n",
       "  'Min': '166:17',\n",
       "  'Pts': '71',\n",
       "  '2FG': '11/18',\n",
       "  '3FG': '14/32',\n",
       "  'FT': '7/8',\n",
       "  'O': '5',\n",
       "  'D': '15',\n",
       "  'T': '20',\n",
       "  'As': '12',\n",
       "  'St': '5',\n",
       "  'To': '10',\n",
       "  'Fv': '0',\n",
       "  'Ag': '2',\n",
       "  'Cm': '16',\n",
       "  'Rv': '11',\n",
       "  'PIR': '65'},\n",
       " {'name': ' IFFE LUNDBERG',\n",
       "  'position': 'Guard',\n",
       "  'height': ' 1.93',\n",
       "  'dob': ' 4 December, 1994',\n",
       "  'G': '9',\n",
       "  'GS': '8',\n",
       "  'Min': '206:22',\n",
       "  'Pts': '90',\n",
       "  '2FG': '25/45',\n",
       "  '3FG': '8/29',\n",
       "  'FT': '16/18',\n",
       "  'O': '8',\n",
       "  'D': '18',\n",
       "  'T': '26',\n",
       "  'As': '23',\n",
       "  'St': '7',\n",
       "  'To': '14',\n",
       "  'Fv': '0',\n",
       "  'Ag': '3',\n",
       "  'Cm': '18',\n",
       "  'Rv': '21',\n",
       "  'PIR': '89'},\n",
       " {'name': ' LUKAS LEKAVICIUS',\n",
       "  'position': 'Guard',\n",
       "  'height': ' 1.80',\n",
       "  'dob': ' 30 March, 1994',\n",
       "  'G': '9',\n",
       "  'GS': '1',\n",
       "  'Min': '197:08',\n",
       "  'Pts': '89',\n",
       "  '2FG': '27/57',\n",
       "  '3FG': '6/23',\n",
       "  'FT': '17/20',\n",
       "  'O': '2',\n",
       "  'D': '6',\n",
       "  'T': '8',\n",
       "  'As': '36',\n",
       "  'St': '3',\n",
       "  'To': '16',\n",
       "  'Fv': '0',\n",
       "  'Ag': '2',\n",
       "  'Cm': '18',\n",
       "  'Rv': '26',\n",
       "  'PIR': '76'},\n",
       " {'name': ' ELIE OKOBO',\n",
       "  'position': 'Guard',\n",
       "  'height': ' 1.91',\n",
       "  'dob': ' 23 October, 1997',\n",
       "  'G': '9',\n",
       "  'GS': '9',\n",
       "  'Min': '244:01',\n",
       "  'Pts': '173',\n",
       "  '2FG': '50/79',\n",
       "  '3FG': '19/41',\n",
       "  'FT': '16/20',\n",
       "  'O': '3',\n",
       "  'D': '33',\n",
       "  'T': '36',\n",
       "  'As': '32',\n",
       "  'St': '8',\n",
       "  'To': '34',\n",
       "  'Fv': '0',\n",
       "  'Ag': '2',\n",
       "  'Cm': '19',\n",
       "  'Rv': '31',\n",
       "  'PIR': '170'},\n",
       " {'name': ' VASILIJE MICIC',\n",
       "  'position': 'Guard',\n",
       "  'height': ' 1.96',\n",
       "  'dob': ' 13 January, 1994',\n",
       "  'G': '7',\n",
       "  'GS': '6',\n",
       "  'Min': '196:12',\n",
       "  'Pts': '118',\n",
       "  '2FG': '18/41',\n",
       "  '3FG': '21/44',\n",
       "  'FT': '19/22',\n",
       "  'O': '2',\n",
       "  'D': '12',\n",
       "  'T': '14',\n",
       "  'As': '29',\n",
       "  'St': '10',\n",
       "  'To': '27',\n",
       "  'Fv': '0',\n",
       "  'Ag': '6',\n",
       "  'Cm': '16',\n",
       "  'Rv': '26',\n",
       "  'PIR': '99'},\n",
       " {'name': ' NIKOLA MIROTIC',\n",
       "  'position': 'Forward',\n",
       "  'height': ' 2.08',\n",
       "  'dob': ' 11 February, 1991',\n",
       "  'G': '9',\n",
       "  'GS': '9',\n",
       "  'Min': '225:39',\n",
       "  'Pts': '149',\n",
       "  '2FG': '33/51',\n",
       "  '3FG': '18/35',\n",
       "  'FT': '29/34',\n",
       "  'O': '12',\n",
       "  'D': '39',\n",
       "  'T': '51',\n",
       "  'As': '12',\n",
       "  'St': '12',\n",
       "  'To': '9',\n",
       "  'Fv': '3',\n",
       "  'Ag': '1',\n",
       "  'Cm': '12',\n",
       "  'Rv': '29',\n",
       "  'PIR': '194'},\n",
       " {'name': ' DARRUN HILLIARD',\n",
       "  'position': 'Guard',\n",
       "  'height': ' 1.98',\n",
       "  'dob': ' 13 April, 1993',\n",
       "  'G': '9',\n",
       "  'GS': '6',\n",
       "  'Min': '248:38',\n",
       "  'Pts': '139',\n",
       "  '2FG': '23/48',\n",
       "  '3FG': '23/58',\n",
       "  'FT': '24/30',\n",
       "  'O': '2',\n",
       "  'D': '31',\n",
       "  'T': '33',\n",
       "  'As': '20',\n",
       "  'St': '14',\n",
       "  'To': '19',\n",
       "  'Fv': '2',\n",
       "  'Ag': '8',\n",
       "  'Cm': '22',\n",
       "  'Rv': '36',\n",
       "  'PIR': '129'},\n",
       " {'name': ' MAODO LO',\n",
       "  'position': 'Guard',\n",
       "  'height': ' 1.91',\n",
       "  'dob': ' 31 December, 1992',\n",
       "  'G': '9',\n",
       "  'GS': '6',\n",
       "  'Min': '210:52',\n",
       "  'Pts': '132',\n",
       "  '2FG': '23/47',\n",
       "  '3FG': '21/46',\n",
       "  'FT': '23/26',\n",
       "  'O': '2',\n",
       "  'D': '11',\n",
       "  'T': '13',\n",
       "  'As': '28',\n",
       "  'St': '7',\n",
       "  'To': '15',\n",
       "  'Fv': '1',\n",
       "  'Ag': '5',\n",
       "  'Cm': '10',\n",
       "  'Rv': '33',\n",
       "  'PIR': '132'}]"
      ]
     },
     "execution_count": 317,
     "metadata": {},
     "output_type": "execute_result"
    }
   ],
   "source": [
    "Player_List[20:30]"
   ]
  },
  {
   "cell_type": "markdown",
   "id": "659560e5",
   "metadata": {},
   "source": [
    "#### Save the list as json file"
   ]
  },
  {
   "cell_type": "code",
   "execution_count": 1,
   "id": "61b72255",
   "metadata": {},
   "outputs": [],
   "source": [
    "import json"
   ]
  },
  {
   "cell_type": "code",
   "execution_count": 319,
   "id": "3d72f4d0",
   "metadata": {},
   "outputs": [],
   "source": [
    "with open(\"Players.json\",\"w\") as f:\n",
    "    json.dump(Player_List,f)"
   ]
  },
  {
   "cell_type": "code",
   "execution_count": 2,
   "id": "96b39bc1",
   "metadata": {},
   "outputs": [],
   "source": [
    "import pandas as pd"
   ]
  },
  {
   "cell_type": "code",
   "execution_count": 4,
   "id": "1ff85ecf",
   "metadata": {},
   "outputs": [],
   "source": [
    "f = open(\"Players.json\")"
   ]
  },
  {
   "cell_type": "code",
   "execution_count": 5,
   "id": "17d21d5d",
   "metadata": {},
   "outputs": [],
   "source": [
    "player_list_from_json = json.load(f)"
   ]
  },
  {
   "cell_type": "code",
   "execution_count": 7,
   "id": "e93166fa",
   "metadata": {},
   "outputs": [],
   "source": [
    "df = pd.DataFrame(player_list_from_json) "
   ]
  },
  {
   "cell_type": "code",
   "execution_count": 8,
   "id": "8b070f4b",
   "metadata": {},
   "outputs": [
    {
     "data": {
      "text/html": [
       "<div>\n",
       "<style scoped>\n",
       "    .dataframe tbody tr th:only-of-type {\n",
       "        vertical-align: middle;\n",
       "    }\n",
       "\n",
       "    .dataframe tbody tr th {\n",
       "        vertical-align: top;\n",
       "    }\n",
       "\n",
       "    .dataframe thead th {\n",
       "        text-align: right;\n",
       "    }\n",
       "</style>\n",
       "<table border=\"1\" class=\"dataframe\">\n",
       "  <thead>\n",
       "    <tr style=\"text-align: right;\">\n",
       "      <th></th>\n",
       "      <th>name</th>\n",
       "      <th>position</th>\n",
       "      <th>height</th>\n",
       "      <th>dob</th>\n",
       "      <th>G</th>\n",
       "      <th>GS</th>\n",
       "      <th>Min</th>\n",
       "      <th>Pts</th>\n",
       "      <th>2FG</th>\n",
       "      <th>3FG</th>\n",
       "      <th>...</th>\n",
       "      <th>D</th>\n",
       "      <th>T</th>\n",
       "      <th>As</th>\n",
       "      <th>St</th>\n",
       "      <th>To</th>\n",
       "      <th>Fv</th>\n",
       "      <th>Ag</th>\n",
       "      <th>Cm</th>\n",
       "      <th>Rv</th>\n",
       "      <th>PIR</th>\n",
       "    </tr>\n",
       "  </thead>\n",
       "  <tbody>\n",
       "    <tr>\n",
       "      <th>0</th>\n",
       "      <td>DARYL MACON JR</td>\n",
       "      <td>Guard</td>\n",
       "      <td>1.88</td>\n",
       "      <td>29 November, 1995</td>\n",
       "      <td>9</td>\n",
       "      <td>6</td>\n",
       "      <td>234:25</td>\n",
       "      <td>153</td>\n",
       "      <td>24/33</td>\n",
       "      <td>24/53</td>\n",
       "      <td>...</td>\n",
       "      <td>14</td>\n",
       "      <td>18</td>\n",
       "      <td>24</td>\n",
       "      <td>4</td>\n",
       "      <td>17</td>\n",
       "      <td>1</td>\n",
       "      <td>0</td>\n",
       "      <td>24</td>\n",
       "      <td>31</td>\n",
       "      <td>149</td>\n",
       "    </tr>\n",
       "    <tr>\n",
       "      <th>1</th>\n",
       "      <td>WILL CLYBURN</td>\n",
       "      <td>Forward</td>\n",
       "      <td>2.01</td>\n",
       "      <td>17 May, 1990</td>\n",
       "      <td>9</td>\n",
       "      <td>1</td>\n",
       "      <td>262:29</td>\n",
       "      <td>150</td>\n",
       "      <td>33/73</td>\n",
       "      <td>17/43</td>\n",
       "      <td>...</td>\n",
       "      <td>35</td>\n",
       "      <td>50</td>\n",
       "      <td>11</td>\n",
       "      <td>7</td>\n",
       "      <td>18</td>\n",
       "      <td>4</td>\n",
       "      <td>5</td>\n",
       "      <td>12</td>\n",
       "      <td>42</td>\n",
       "      <td>156</td>\n",
       "    </tr>\n",
       "    <tr>\n",
       "      <th>2</th>\n",
       "      <td>CHRIS JONES</td>\n",
       "      <td>Guard</td>\n",
       "      <td>1.88</td>\n",
       "      <td>10 April, 1993</td>\n",
       "      <td>9</td>\n",
       "      <td>9</td>\n",
       "      <td>255:00</td>\n",
       "      <td>141</td>\n",
       "      <td>41/65</td>\n",
       "      <td>13/28</td>\n",
       "      <td>...</td>\n",
       "      <td>26</td>\n",
       "      <td>27</td>\n",
       "      <td>22</td>\n",
       "      <td>16</td>\n",
       "      <td>15</td>\n",
       "      <td>1</td>\n",
       "      <td>3</td>\n",
       "      <td>16</td>\n",
       "      <td>24</td>\n",
       "      <td>153</td>\n",
       "    </tr>\n",
       "    <tr>\n",
       "      <th>3</th>\n",
       "      <td>TORNIKE SHENGELIA</td>\n",
       "      <td>Forward</td>\n",
       "      <td>2.06</td>\n",
       "      <td>5 October, 1991</td>\n",
       "      <td>5</td>\n",
       "      <td>5</td>\n",
       "      <td>138:01</td>\n",
       "      <td>77</td>\n",
       "      <td>20/35</td>\n",
       "      <td>6/15</td>\n",
       "      <td>...</td>\n",
       "      <td>13</td>\n",
       "      <td>21</td>\n",
       "      <td>9</td>\n",
       "      <td>5</td>\n",
       "      <td>8</td>\n",
       "      <td>0</td>\n",
       "      <td>2</td>\n",
       "      <td>10</td>\n",
       "      <td>20</td>\n",
       "      <td>82</td>\n",
       "    </tr>\n",
       "    <tr>\n",
       "      <th>4</th>\n",
       "      <td>OSCAR DA SILVA</td>\n",
       "      <td>Forward</td>\n",
       "      <td>2.05</td>\n",
       "      <td>21 September, 1998</td>\n",
       "      <td>8</td>\n",
       "      <td>4</td>\n",
       "      <td>213:32</td>\n",
       "      <td>114</td>\n",
       "      <td>42/59</td>\n",
       "      <td>4/11</td>\n",
       "      <td>...</td>\n",
       "      <td>21</td>\n",
       "      <td>29</td>\n",
       "      <td>8</td>\n",
       "      <td>9</td>\n",
       "      <td>8</td>\n",
       "      <td>6</td>\n",
       "      <td>2</td>\n",
       "      <td>18</td>\n",
       "      <td>21</td>\n",
       "      <td>131</td>\n",
       "    </tr>\n",
       "  </tbody>\n",
       "</table>\n",
       "<p>5 rows × 22 columns</p>\n",
       "</div>"
      ],
      "text/plain": [
       "                 name position height                  dob  G GS     Min  Pts  \\\n",
       "0      DARYL MACON JR    Guard   1.88    29 November, 1995  9  6  234:25  153   \n",
       "1        WILL CLYBURN  Forward   2.01         17 May, 1990  9  1  262:29  150   \n",
       "2         CHRIS JONES    Guard   1.88       10 April, 1993  9  9  255:00  141   \n",
       "3   TORNIKE SHENGELIA  Forward   2.06      5 October, 1991  5  5  138:01   77   \n",
       "4      OSCAR DA SILVA  Forward   2.05   21 September, 1998  8  4  213:32  114   \n",
       "\n",
       "     2FG    3FG  ...   D   T  As  St  To Fv Ag  Cm  Rv  PIR  \n",
       "0  24/33  24/53  ...  14  18  24   4  17  1  0  24  31  149  \n",
       "1  33/73  17/43  ...  35  50  11   7  18  4  5  12  42  156  \n",
       "2  41/65  13/28  ...  26  27  22  16  15  1  3  16  24  153  \n",
       "3  20/35   6/15  ...  13  21   9   5   8  0  2  10  20   82  \n",
       "4  42/59   4/11  ...  21  29   8   9   8  6  2  18  21  131  \n",
       "\n",
       "[5 rows x 22 columns]"
      ]
     },
     "execution_count": 8,
     "metadata": {},
     "output_type": "execute_result"
    }
   ],
   "source": [
    "df.head()"
   ]
  },
  {
   "cell_type": "code",
   "execution_count": 9,
   "id": "e8769399",
   "metadata": {},
   "outputs": [
    {
     "name": "stdout",
     "output_type": "stream",
     "text": [
      "Players.json  Prototyping_scraping_on_single_player.ipynb  README.md\r\n"
     ]
    }
   ],
   "source": [
    "!ls"
   ]
  },
  {
   "cell_type": "code",
   "execution_count": 10,
   "id": "3a3228bf",
   "metadata": {},
   "outputs": [],
   "source": [
    "!mkdir data"
   ]
  },
  {
   "cell_type": "code",
   "execution_count": 11,
   "id": "47e26f38",
   "metadata": {},
   "outputs": [],
   "source": [
    "df.to_csv(\"data/players.csv\",index=False)"
   ]
  },
  {
   "cell_type": "code",
   "execution_count": 12,
   "id": "5d4e47f5",
   "metadata": {},
   "outputs": [],
   "source": [
    "df2 = pd.read_csv(\"data/players.csv\")"
   ]
  },
  {
   "cell_type": "code",
   "execution_count": 17,
   "id": "aa5c2a52",
   "metadata": {},
   "outputs": [
    {
     "ename": "AssertionError",
     "evalue": "Attributes of DataFrame.iloc[:, 2] (column name=\"height\") are different\n\nAttribute \"dtype\" are different\n[left]:  object\n[right]: float64",
     "output_type": "error",
     "traceback": [
      "\u001b[0;31m---------------------------------------------------------------------------\u001b[0m",
      "\u001b[0;31mAssertionError\u001b[0m                            Traceback (most recent call last)",
      "\u001b[0;32m<ipython-input-17-3c31b9be99d4>\u001b[0m in \u001b[0;36m<module>\u001b[0;34m\u001b[0m\n\u001b[0;32m----> 1\u001b[0;31m \u001b[0mpd\u001b[0m\u001b[0;34m.\u001b[0m\u001b[0mtesting\u001b[0m\u001b[0;34m.\u001b[0m\u001b[0massert_frame_equal\u001b[0m\u001b[0;34m(\u001b[0m\u001b[0mdf\u001b[0m\u001b[0;34m,\u001b[0m\u001b[0mdf2\u001b[0m\u001b[0;34m)\u001b[0m\u001b[0;34m\u001b[0m\u001b[0;34m\u001b[0m\u001b[0m\n\u001b[0m",
      "    \u001b[0;31m[... skipping hidden 3 frame]\u001b[0m\n",
      "\u001b[0;32m~/anaconda3/lib/python3.8/site-packages/pandas/_testing.py\u001b[0m in \u001b[0;36mraise_assert_detail\u001b[0;34m(obj, message, left, right, diff, index_values)\u001b[0m\n\u001b[1;32m   1071\u001b[0m         \u001b[0mmsg\u001b[0m \u001b[0;34m+=\u001b[0m \u001b[0;34mf\"\\n[diff]: {diff}\"\u001b[0m\u001b[0;34m\u001b[0m\u001b[0;34m\u001b[0m\u001b[0m\n\u001b[1;32m   1072\u001b[0m \u001b[0;34m\u001b[0m\u001b[0m\n\u001b[0;32m-> 1073\u001b[0;31m     \u001b[0;32mraise\u001b[0m \u001b[0mAssertionError\u001b[0m\u001b[0;34m(\u001b[0m\u001b[0mmsg\u001b[0m\u001b[0;34m)\u001b[0m\u001b[0;34m\u001b[0m\u001b[0;34m\u001b[0m\u001b[0m\n\u001b[0m\u001b[1;32m   1074\u001b[0m \u001b[0;34m\u001b[0m\u001b[0m\n\u001b[1;32m   1075\u001b[0m \u001b[0;34m\u001b[0m\u001b[0m\n",
      "\u001b[0;31mAssertionError\u001b[0m: Attributes of DataFrame.iloc[:, 2] (column name=\"height\") are different\n\nAttribute \"dtype\" are different\n[left]:  object\n[right]: float64"
     ]
    }
   ],
   "source": [
    "pd.testing.assert_frame_equal(df,df2)"
   ]
  },
  {
   "cell_type": "code",
   "execution_count": null,
   "id": "3e7f4e4f",
   "metadata": {},
   "outputs": [],
   "source": []
  }
 ],
 "metadata": {
  "kernelspec": {
   "display_name": "Python 3",
   "language": "python",
   "name": "python3"
  },
  "language_info": {
   "codemirror_mode": {
    "name": "ipython",
    "version": 3
   },
   "file_extension": ".py",
   "mimetype": "text/x-python",
   "name": "python",
   "nbconvert_exporter": "python",
   "pygments_lexer": "ipython3",
   "version": "3.8.8"
  }
 },
 "nbformat": 4,
 "nbformat_minor": 5
}
