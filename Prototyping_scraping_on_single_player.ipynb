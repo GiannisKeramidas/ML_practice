{
 "cells": [
  {
   "cell_type": "code",
   "execution_count": 3,
   "id": "8e9342b9",
   "metadata": {},
   "outputs": [],
   "source": [
    "from bs4 import BeautifulSoup\n",
    "from urllib.request import urlopen"
   ]
  },
  {
   "cell_type": "code",
   "execution_count": 7,
   "id": "c2a9a955",
   "metadata": {},
   "outputs": [],
   "source": [
    "import requests"
   ]
  },
  {
   "cell_type": "markdown",
   "id": "f0457238",
   "metadata": {},
   "source": [
    "### Prototyping Scraping on Nicola Mirotic"
   ]
  },
  {
   "cell_type": "code",
   "execution_count": 4,
   "id": "320951dd",
   "metadata": {},
   "outputs": [],
   "source": [
    "url = \"https://www.euroleague.net/competition/players/showplayer?pcode=000796&seasoncode=E2021#!currentstats\""
   ]
  },
  {
   "cell_type": "code",
   "execution_count": 8,
   "id": "4b14feed",
   "metadata": {},
   "outputs": [],
   "source": [
    "html = requests.get(url)"
   ]
  },
  {
   "cell_type": "code",
   "execution_count": 14,
   "id": "bbe884f6",
   "metadata": {},
   "outputs": [],
   "source": [
    "html.text;"
   ]
  },
  {
   "cell_type": "code",
   "execution_count": 17,
   "id": "9bb49a35",
   "metadata": {},
   "outputs": [],
   "source": [
    "soup = BeautifulSoup(html.text, \"html5lib\")"
   ]
  },
  {
   "cell_type": "markdown",
   "id": "ed45d7a7",
   "metadata": {},
   "source": [
    "#### Grabbing player's name"
   ]
  },
  {
   "cell_type": "code",
   "execution_count": 90,
   "id": "a94fdde6",
   "metadata": {},
   "outputs": [],
   "source": [
    "player_data = soup.find_all(class_=\"player-data\")"
   ]
  },
  {
   "cell_type": "code",
   "execution_count": 91,
   "id": "55debd61",
   "metadata": {},
   "outputs": [
    {
     "data": {
      "text/plain": [
       "'MIROTIC, NIKOLA'"
      ]
     },
     "execution_count": 91,
     "metadata": {},
     "output_type": "execute_result"
    }
   ],
   "source": [
    "player_data[0].find_all(class_=\"name\")[0].get_text()"
   ]
  },
  {
   "cell_type": "markdown",
   "id": "602f29dc",
   "metadata": {},
   "source": [
    "#### Grabbing player's height and DOB"
   ]
  },
  {
   "cell_type": "code",
   "execution_count": 108,
   "id": "661dfa1d",
   "metadata": {},
   "outputs": [],
   "source": [
    "second_summary_spans = player_data[0].find_all(class_='summary-second')[0].find_all(\"span\")"
   ]
  },
  {
   "cell_type": "code",
   "execution_count": 109,
   "id": "6d5da8c8",
   "metadata": {},
   "outputs": [
    {
     "data": {
      "text/plain": [
       "' 2.08'"
      ]
     },
     "execution_count": 109,
     "metadata": {},
     "output_type": "execute_result"
    }
   ],
   "source": [
    "second_summary_spans[0].get_text().split(\":\")[1]"
   ]
  },
  {
   "cell_type": "code",
   "execution_count": 110,
   "id": "6c97df0a",
   "metadata": {},
   "outputs": [
    {
     "data": {
      "text/plain": [
       "' 11 February, 1991'"
      ]
     },
     "execution_count": 110,
     "metadata": {},
     "output_type": "execute_result"
    }
   ],
   "source": [
    "second_summary_spans[1].get_text().split(\":\")[1]"
   ]
  },
  {
   "cell_type": "markdown",
   "id": "f026c956",
   "metadata": {},
   "source": [
    "#### Grabbing player's position"
   ]
  },
  {
   "cell_type": "code",
   "execution_count": 96,
   "id": "cfc203e6",
   "metadata": {},
   "outputs": [],
   "source": [
    "first_summary_spans = player_data[0].find_all(class_=\"summary-first\")[0].find_all(\"span\")"
   ]
  },
  {
   "cell_type": "code",
   "execution_count": 106,
   "id": "5252ecc3",
   "metadata": {},
   "outputs": [
    {
     "data": {
      "text/plain": [
       "'Forward'"
      ]
     },
     "execution_count": 106,
     "metadata": {},
     "output_type": "execute_result"
    }
   ],
   "source": [
    "first_summary_spans[1].find_all(\"span\")[1].get_text()"
   ]
  },
  {
   "cell_type": "markdown",
   "id": "049ecde7",
   "metadata": {},
   "source": [
    "#### Grabbing player's stats"
   ]
  },
  {
   "cell_type": "code",
   "execution_count": 73,
   "id": "f3a6ab9f",
   "metadata": {},
   "outputs": [],
   "source": [
    "stats_table = soup.find('table', id = \"tblPlayerPhaseStatistics\" )"
   ]
  },
  {
   "cell_type": "code",
   "execution_count": 85,
   "id": "1df90015",
   "metadata": {},
   "outputs": [
    {
     "data": {
      "text/plain": [
       "[<td class=\"PlayerTitleColumn\">Totals</td>,\n",
       " <td>9</td>,\n",
       " <td>9</td>,\n",
       " <td>225:39</td>,\n",
       " <td>149</td>,\n",
       " <td>33/51</td>,\n",
       " <td>18/35</td>,\n",
       " <td>29/34</td>,\n",
       " <td>12</td>,\n",
       " <td>39</td>,\n",
       " <td>51</td>,\n",
       " <td>12</td>,\n",
       " <td>12</td>,\n",
       " <td>9</td>,\n",
       " <td>3</td>,\n",
       " <td>1</td>,\n",
       " <td>12</td>,\n",
       " <td>29</td>,\n",
       " <td>194</td>]"
      ]
     },
     "execution_count": 85,
     "metadata": {},
     "output_type": "execute_result"
    }
   ],
   "source": [
    "stats_table.find_all(class_=\"PlayerGridRow\")[0].find_all(\"td\") # Stats"
   ]
  },
  {
   "cell_type": "code",
   "execution_count": 135,
   "id": "c3c82905",
   "metadata": {},
   "outputs": [],
   "source": [
    "stats = stats_table.find_all(class_=\"PlayerGridRow\")[0].find_all(\"td\")"
   ]
  },
  {
   "cell_type": "code",
   "execution_count": 136,
   "id": "6d35f9ed",
   "metadata": {},
   "outputs": [
    {
     "name": "stdout",
     "output_type": "stream",
     "text": [
      "Totals\n",
      "9\n",
      "9\n",
      "225:39\n",
      "149\n",
      "33/51\n",
      "18/35\n",
      "29/34\n",
      "12\n",
      "39\n",
      "51\n",
      "12\n",
      "12\n",
      "9\n",
      "3\n",
      "1\n",
      "12\n",
      "29\n",
      "194\n"
     ]
    }
   ],
   "source": [
    "for stat in stats:\n",
    "    print(stat.get_text())"
   ]
  },
  {
   "cell_type": "code",
   "execution_count": 137,
   "id": "1f3133a7",
   "metadata": {},
   "outputs": [
    {
     "data": {
      "text/plain": [
       "19"
      ]
     },
     "execution_count": 137,
     "metadata": {},
     "output_type": "execute_result"
    }
   ],
   "source": [
    "len(stats)"
   ]
  },
  {
   "cell_type": "code",
   "execution_count": 131,
   "id": "d21f6e23",
   "metadata": {},
   "outputs": [],
   "source": [
    "headers = stats_table.find_all(\"tr\")[1].find_all(\"th\") # headers"
   ]
  },
  {
   "cell_type": "code",
   "execution_count": 132,
   "id": "c6ba7689",
   "metadata": {},
   "outputs": [
    {
     "name": "stdout",
     "output_type": "stream",
     "text": [
      "G\n",
      "GS\n",
      "Min\n",
      "Pts\n",
      "2FG\n",
      "3FG\n",
      "FT\n",
      "O\n",
      "D\n",
      "T\n",
      "As\n",
      "St\n",
      "To\n",
      "Fv\n",
      "Ag\n",
      "Cm\n",
      "Rv\n",
      "PIR\n"
     ]
    }
   ],
   "source": [
    "for header in headers[1:]:\n",
    "    print(header.get_text())"
   ]
  },
  {
   "cell_type": "code",
   "execution_count": 138,
   "id": "18c2267d",
   "metadata": {},
   "outputs": [
    {
     "data": {
      "text/plain": [
       "19"
      ]
     },
     "execution_count": 138,
     "metadata": {},
     "output_type": "execute_result"
    }
   ],
   "source": [
    "len(headers)"
   ]
  },
  {
   "cell_type": "markdown",
   "id": "019a2e93",
   "metadata": {},
   "source": [
    "#### Create dictionary with player's stats"
   ]
  },
  {
   "cell_type": "code",
   "execution_count": 190,
   "id": "02e66d84",
   "metadata": {},
   "outputs": [],
   "source": [
    "def player_dictionary_creation(soup):\n",
    "    player_data_dict = {}\n",
    "    player_data = soup.find_all(class_=\"player-data\")\n",
    "    name_of_player = player_data[0].find_all(class_=\"name\")[0].get_text().split(\",\")\n",
    "    player_data_dict['name'] = name_of_player[1] + \" \" + name_of_player[0]\n",
    "    first_summary_spans = player_data[0].find_all(class_=\"summary-first\")[0].find_all(\"span\")\n",
    "    player_data_dict['position'] = first_summary_spans[1].find_all(\"span\")[1].get_text()\n",
    "    second_summary_spans = player_data[0].find_all(class_='summary-second')[0].find_all(\"span\")\n",
    "    player_data_dict['height'] = second_summary_spans[0].get_text().split(\":\")[1]\n",
    "    player_data_dict['dob'] = second_summary_spans[1].get_text().split(\":\")[1]\n",
    "    stats_table = soup.find('table', id = \"tblPlayerPhaseStatistics\" )\n",
    "    stats = stats_table.find_all(class_=\"PlayerGridRow\")[0].find_all(\"td\")\n",
    "    headers = stats_table.find_all(\"tr\")[1].find_all(\"th\") \n",
    "    for i, (stat, header) in enumerate(zip(stats,headers)):\n",
    "        if i!=0:\n",
    "            player_data_dict[header.get_text()] = stat.get_text()\n",
    "    return player_data_dict"
   ]
  },
  {
   "cell_type": "code",
   "execution_count": 191,
   "id": "428919a7",
   "metadata": {},
   "outputs": [],
   "source": [
    "Mirotic_dict = player_dictionary_creation(soup)"
   ]
  },
  {
   "cell_type": "code",
   "execution_count": 192,
   "id": "54a27c2f",
   "metadata": {},
   "outputs": [
    {
     "data": {
      "text/plain": [
       "{'name': ' NIKOLA MIROTIC',\n",
       " 'position': 'Forward',\n",
       " 'height': ' 2.08',\n",
       " 'dob': ' 11 February, 1991',\n",
       " 'G': '9',\n",
       " 'GS': '9',\n",
       " 'Min': '225:39',\n",
       " 'Pts': '149',\n",
       " '2FG': '33/51',\n",
       " '3FG': '18/35',\n",
       " 'FT': '29/34',\n",
       " 'O': '12',\n",
       " 'D': '39',\n",
       " 'T': '51',\n",
       " 'As': '12',\n",
       " 'St': '12',\n",
       " 'To': '9',\n",
       " 'Fv': '3',\n",
       " 'Ag': '1',\n",
       " 'Cm': '12',\n",
       " 'Rv': '29',\n",
       " 'PIR': '194'}"
      ]
     },
     "execution_count": 192,
     "metadata": {},
     "output_type": "execute_result"
    }
   ],
   "source": [
    "Mirotic_dict"
   ]
  },
  {
   "cell_type": "code",
   "execution_count": null,
   "id": "b213ad03",
   "metadata": {},
   "outputs": [],
   "source": []
  }
 ],
 "metadata": {
  "kernelspec": {
   "display_name": "Python 3",
   "language": "python",
   "name": "python3"
  },
  "language_info": {
   "codemirror_mode": {
    "name": "ipython",
    "version": 3
   },
   "file_extension": ".py",
   "mimetype": "text/x-python",
   "name": "python",
   "nbconvert_exporter": "python",
   "pygments_lexer": "ipython3",
   "version": "3.8.8"
  }
 },
 "nbformat": 4,
 "nbformat_minor": 5
}
