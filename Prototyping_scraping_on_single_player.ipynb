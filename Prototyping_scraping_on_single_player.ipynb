{
 "cells": [
  {
   "cell_type": "code",
   "execution_count": 3,
   "id": "8e9342b9",
   "metadata": {},
   "outputs": [],
   "source": [
    "from bs4 import BeautifulSoup\n",
    "from urllib.request import urlopen"
   ]
  },
  {
   "cell_type": "code",
   "execution_count": 7,
   "id": "60af556d",
   "metadata": {},
   "outputs": [],
   "source": [
    "import requests"
   ]
  },
  {
   "cell_type": "markdown",
   "id": "a70c1bf7",
   "metadata": {},
   "source": [
    "### Prototyping Scraping on Nicola Mirotic"
   ]
  },
  {
   "cell_type": "code",
   "execution_count": 4,
   "id": "65f350b5",
   "metadata": {},
   "outputs": [],
   "source": [
    "url = \"https://www.euroleague.net/competition/players/showplayer?pcode=000796&seasoncode=E2021#!currentstats\""
   ]
  },
  {
   "cell_type": "code",
   "execution_count": 8,
   "id": "c8759a0a",
   "metadata": {},
   "outputs": [],
   "source": [
    "html = requests.get(url)"
   ]
  },
  {
   "cell_type": "code",
   "execution_count": 14,
   "id": "a1e98496",
   "metadata": {},
   "outputs": [],
   "source": [
    "html.text;"
   ]
  },
  {
   "cell_type": "code",
   "execution_count": 17,
   "id": "4f730a9c",
   "metadata": {},
   "outputs": [],
   "source": [
    "soup = BeautifulSoup(html.text, \"html5lib\")"
   ]
  },
  {
   "cell_type": "markdown",
   "id": "29e28f67",
   "metadata": {},
   "source": [
    "#### Grabbing player's name"
   ]
  },
  {
   "cell_type": "code",
   "execution_count": 90,
   "id": "53b5bd4c",
   "metadata": {},
   "outputs": [],
   "source": [
    "player_data = soup.find_all(class_=\"player-data\")"
   ]
  },
  {
   "cell_type": "code",
   "execution_count": 91,
   "id": "a06b1616",
   "metadata": {},
   "outputs": [
    {
     "data": {
      "text/plain": [
       "'MIROTIC, NIKOLA'"
      ]
     },
     "execution_count": 91,
     "metadata": {},
     "output_type": "execute_result"
    }
   ],
   "source": [
    "player_data[0].find_all(class_=\"name\")[0].get_text()"
   ]
  },
  {
   "cell_type": "markdown",
   "id": "5c05b80c",
   "metadata": {},
   "source": [
    "#### Grabbing player's height and DOB"
   ]
  },
  {
   "cell_type": "code",
   "execution_count": 108,
   "id": "bd062a13",
   "metadata": {},
   "outputs": [],
   "source": [
    "second_summary_spans = player_data[0].find_all(class_='summary-second')[0].find_all(\"span\")"
   ]
  },
  {
   "cell_type": "code",
   "execution_count": 109,
   "id": "48d67932",
   "metadata": {},
   "outputs": [
    {
     "data": {
      "text/plain": [
       "' 2.08'"
      ]
     },
     "execution_count": 109,
     "metadata": {},
     "output_type": "execute_result"
    }
   ],
   "source": [
    "second_summary_spans[0].get_text().split(\":\")[1]"
   ]
  },
  {
   "cell_type": "code",
   "execution_count": 110,
   "id": "43131e2f",
   "metadata": {},
   "outputs": [
    {
     "data": {
      "text/plain": [
       "' 11 February, 1991'"
      ]
     },
     "execution_count": 110,
     "metadata": {},
     "output_type": "execute_result"
    }
   ],
   "source": [
    "second_summary_spans[1].get_text().split(\":\")[1]"
   ]
  },
  {
   "cell_type": "markdown",
   "id": "17a30614",
   "metadata": {},
   "source": [
    "#### Grabbing player's position"
   ]
  },
  {
   "cell_type": "code",
   "execution_count": 96,
   "id": "25981fa1",
   "metadata": {},
   "outputs": [],
   "source": [
    "first_summary_spans = player_data[0].find_all(class_=\"summary-first\")[0].find_all(\"span\")"
   ]
  },
  {
   "cell_type": "code",
   "execution_count": 106,
   "id": "a4542908",
   "metadata": {},
   "outputs": [
    {
     "data": {
      "text/plain": [
       "'Forward'"
      ]
     },
     "execution_count": 106,
     "metadata": {},
     "output_type": "execute_result"
    }
   ],
   "source": [
    "first_summary_spans[1].find_all(\"span\")[1].get_text()"
   ]
  },
  {
   "cell_type": "markdown",
   "id": "e7b01b55",
   "metadata": {},
   "source": [
    "#### Grabbing player's stats"
   ]
  },
  {
   "cell_type": "code",
   "execution_count": 73,
   "id": "e6b602e3",
   "metadata": {},
   "outputs": [],
   "source": [
    "stats_table = soup.find('table', id = \"tblPlayerPhaseStatistics\" )"
   ]
  },
  {
   "cell_type": "code",
   "execution_count": 85,
   "id": "cb5ff444",
   "metadata": {},
   "outputs": [
    {
     "data": {
      "text/plain": [
       "[<td class=\"PlayerTitleColumn\">Totals</td>,\n",
       " <td>9</td>,\n",
       " <td>9</td>,\n",
       " <td>225:39</td>,\n",
       " <td>149</td>,\n",
       " <td>33/51</td>,\n",
       " <td>18/35</td>,\n",
       " <td>29/34</td>,\n",
       " <td>12</td>,\n",
       " <td>39</td>,\n",
       " <td>51</td>,\n",
       " <td>12</td>,\n",
       " <td>12</td>,\n",
       " <td>9</td>,\n",
       " <td>3</td>,\n",
       " <td>1</td>,\n",
       " <td>12</td>,\n",
       " <td>29</td>,\n",
       " <td>194</td>]"
      ]
     },
     "execution_count": 85,
     "metadata": {},
     "output_type": "execute_result"
    }
   ],
   "source": [
    "stats_table.find_all(class_=\"PlayerGridRow\")[0].find_all(\"td\") # Stats"
   ]
  },
  {
   "cell_type": "code",
   "execution_count": 135,
   "id": "3a8c7303",
   "metadata": {},
   "outputs": [],
   "source": [
    "stats = stats_table.find_all(class_=\"PlayerGridRow\")[0].find_all(\"td\")"
   ]
  },
  {
   "cell_type": "code",
   "execution_count": 136,
   "id": "dba4e5e2",
   "metadata": {},
   "outputs": [
    {
     "name": "stdout",
     "output_type": "stream",
     "text": [
      "Totals\n",
      "9\n",
      "9\n",
      "225:39\n",
      "149\n",
      "33/51\n",
      "18/35\n",
      "29/34\n",
      "12\n",
      "39\n",
      "51\n",
      "12\n",
      "12\n",
      "9\n",
      "3\n",
      "1\n",
      "12\n",
      "29\n",
      "194\n"
     ]
    }
   ],
   "source": [
    "for stat in stats:\n",
    "    print(stat.get_text())"
   ]
  },
  {
   "cell_type": "code",
   "execution_count": 137,
   "id": "ed1945e2",
   "metadata": {},
   "outputs": [
    {
     "data": {
      "text/plain": [
       "19"
      ]
     },
     "execution_count": 137,
     "metadata": {},
     "output_type": "execute_result"
    }
   ],
   "source": [
    "len(stats)"
   ]
  },
  {
   "cell_type": "code",
   "execution_count": 131,
   "id": "e4d11668",
   "metadata": {},
   "outputs": [],
   "source": [
    "headers = stats_table.find_all(\"tr\")[1].find_all(\"th\") # headers"
   ]
  },
  {
   "cell_type": "code",
   "execution_count": 132,
   "id": "c691ca2b",
   "metadata": {},
   "outputs": [
    {
     "name": "stdout",
     "output_type": "stream",
     "text": [
      "G\n",
      "GS\n",
      "Min\n",
      "Pts\n",
      "2FG\n",
      "3FG\n",
      "FT\n",
      "O\n",
      "D\n",
      "T\n",
      "As\n",
      "St\n",
      "To\n",
      "Fv\n",
      "Ag\n",
      "Cm\n",
      "Rv\n",
      "PIR\n"
     ]
    }
   ],
   "source": [
    "for header in headers[1:]:\n",
    "    print(header.get_text())"
   ]
  },
  {
   "cell_type": "code",
   "execution_count": 138,
   "id": "14683f96",
   "metadata": {},
   "outputs": [
    {
     "data": {
      "text/plain": [
       "19"
      ]
     },
     "execution_count": 138,
     "metadata": {},
     "output_type": "execute_result"
    }
   ],
   "source": [
    "len(headers)"
   ]
  },
  {
   "cell_type": "markdown",
   "id": "21d1d9f0",
   "metadata": {},
   "source": [
    "#### Create dictionary with player's stats"
   ]
  },
  {
   "cell_type": "code",
   "execution_count": 190,
   "id": "22695cbf",
   "metadata": {},
   "outputs": [],
   "source": [
    "def player_dictionary_creation(soup):\n",
    "    player_data_dict = {}\n",
    "    player_data = soup.find_all(class_=\"player-data\")\n",
    "    name_of_player = player_data[0].find_all(class_=\"name\")[0].get_text().split(\",\")\n",
    "    player_data_dict['name'] = name_of_player[1] + \" \" + name_of_player[0]\n",
    "    first_summary_spans = player_data[0].find_all(class_=\"summary-first\")[0].find_all(\"span\")\n",
    "    player_data_dict['position'] = first_summary_spans[1].find_all(\"span\")[1].get_text()\n",
    "    second_summary_spans = player_data[0].find_all(class_='summary-second')[0].find_all(\"span\")\n",
    "    player_data_dict['height'] = second_summary_spans[0].get_text().split(\":\")[1]\n",
    "    player_data_dict['dob'] = second_summary_spans[1].get_text().split(\":\")[1]\n",
    "    stats_table = soup.find('table', id = \"tblPlayerPhaseStatistics\" )\n",
    "    stats = stats_table.find_all(class_=\"PlayerGridRow\")[0].find_all(\"td\")\n",
    "    headers = stats_table.find_all(\"tr\")[1].find_all(\"th\") \n",
    "    for i, (stat, header) in enumerate(zip(stats,headers)):\n",
    "        if i!=0:\n",
    "            player_data_dict[header.get_text()] = stat.get_text()\n",
    "    return player_data_dict"
   ]
  },
  {
   "cell_type": "code",
   "execution_count": 191,
   "id": "9df1da01",
   "metadata": {},
   "outputs": [],
   "source": [
    "Mirotic_dict = player_dictionary_creation(soup)"
   ]
  },
  {
   "cell_type": "code",
   "execution_count": 192,
   "id": "4011f755",
   "metadata": {},
   "outputs": [
    {
     "data": {
      "text/plain": [
       "{'name': ' NIKOLA MIROTIC',\n",
       " 'position': 'Forward',\n",
       " 'height': ' 2.08',\n",
       " 'dob': ' 11 February, 1991',\n",
       " 'G': '9',\n",
       " 'GS': '9',\n",
       " 'Min': '225:39',\n",
       " 'Pts': '149',\n",
       " '2FG': '33/51',\n",
       " '3FG': '18/35',\n",
       " 'FT': '29/34',\n",
       " 'O': '12',\n",
       " 'D': '39',\n",
       " 'T': '51',\n",
       " 'As': '12',\n",
       " 'St': '12',\n",
       " 'To': '9',\n",
       " 'Fv': '3',\n",
       " 'Ag': '1',\n",
       " 'Cm': '12',\n",
       " 'Rv': '29',\n",
       " 'PIR': '194'}"
      ]
     },
     "execution_count": 192,
     "metadata": {},
     "output_type": "execute_result"
    }
   ],
   "source": [
    "Mirotic_dict"
   ]
  },
  {
   "cell_type": "markdown",
   "id": "3ce1ddc6",
   "metadata": {},
   "source": [
    "### Grabbing all players from leaders table"
   ]
  },
  {
   "cell_type": "markdown",
   "id": "d60c7d77",
   "metadata": {},
   "source": [
    "#### Are we allowed to do it?"
   ]
  },
  {
   "cell_type": "code",
   "execution_count": 254,
   "id": "d972e486",
   "metadata": {},
   "outputs": [],
   "source": [
    "robots = requests.get(\"https://www.euroleague.net/robots.txt\")"
   ]
  },
  {
   "cell_type": "code",
   "execution_count": 257,
   "id": "61bcdaa4",
   "metadata": {},
   "outputs": [
    {
     "data": {
      "text/plain": [
       "<html><head></head><body>User-agent: Sosospider\n",
       "Disallow: /\n",
       "\n",
       "User-agent: Yandex\n",
       "Disallow: /\n",
       "\n",
       "User-agent: Baiduspider\n",
       "Disallow: /\n",
       "\n",
       "User-agent: *\n",
       "Crawl-delay: 15</body></html>"
      ]
     },
     "execution_count": 257,
     "metadata": {},
     "output_type": "execute_result"
    }
   ],
   "source": [
    "BeautifulSoup(robots.text,\"html5lib\")"
   ]
  },
  {
   "cell_type": "markdown",
   "id": "2a8a318c",
   "metadata": {},
   "source": [
    "#### We are allowed to scrape"
   ]
  },
  {
   "cell_type": "code",
   "execution_count": 193,
   "id": "e6793918",
   "metadata": {},
   "outputs": [],
   "source": [
    "url_leaders_1 = \"https://www.euroleague.net/main/statistics?agg=PerGame&mode=Leaders&seasonmode=Single&entity=Players&cat=Score&seasoncode=E2021&page=1\"\n",
    "url_leaders_2 = \"https://www.euroleague.net/main/statistics?agg=PerGame&mode=Leaders&seasonmode=Single&entity=Players&cat=Score&seasoncode=E2021&page=2\""
   ]
  },
  {
   "cell_type": "code",
   "execution_count": 242,
   "id": "59b093e4",
   "metadata": {},
   "outputs": [],
   "source": [
    "html_leaders_2 = requests.get(url_leaders_2)"
   ]
  },
  {
   "cell_type": "code",
   "execution_count": 243,
   "id": "82534038",
   "metadata": {},
   "outputs": [],
   "source": [
    "html_leaders_2.text;"
   ]
  },
  {
   "cell_type": "code",
   "execution_count": 244,
   "id": "f6bcff0d",
   "metadata": {},
   "outputs": [],
   "source": [
    "soup_leaders_2 = BeautifulSoup(html_leaders_2.text, \"html5lib\")"
   ]
  },
  {
   "cell_type": "markdown",
   "id": "c05879ab",
   "metadata": {},
   "source": [
    "#### Grabbing the url of each player"
   ]
  },
  {
   "cell_type": "code",
   "execution_count": 275,
   "id": "c64d2694",
   "metadata": {},
   "outputs": [],
   "source": [
    "player_tags_even = soup_leaders_1.find_all(\"table\")[0].find_all(\"tr\",class_=\"StatsAlternatingGridResults\")"
   ]
  },
  {
   "cell_type": "code",
   "execution_count": 278,
   "id": "0e86a17b",
   "metadata": {},
   "outputs": [],
   "source": [
    "player_tags_odd = soup_leaders_1.find_all(\"table\")[0].find_all(\"tr\",class_=\"StatsRowAlternatingGridResults\")"
   ]
  },
  {
   "cell_type": "code",
   "execution_count": 282,
   "id": "1b414669",
   "metadata": {},
   "outputs": [
    {
     "data": {
      "text/plain": [
       "'/competition/players/showplayer?pcode=008989&seasoncode=E2021'"
      ]
     },
     "execution_count": 282,
     "metadata": {},
     "output_type": "execute_result"
    }
   ],
   "source": [
    "player_tags_odd[3].find_all(\"a\")[0].get('href')"
   ]
  },
  {
   "cell_type": "code",
   "execution_count": 283,
   "id": "bcd886d0",
   "metadata": {},
   "outputs": [
    {
     "name": "stdout",
     "output_type": "stream",
     "text": [
      "/competition/players/showplayer?pcode=011212&seasoncode=E2021\n",
      "/competition/players/showplayer?pcode=002580&seasoncode=E2021\n",
      "/competition/players/showplayer?pcode=000796&seasoncode=E2021\n",
      "/competition/players/showplayer?pcode=008989&seasoncode=E2021\n",
      "/competition/players/showplayer?pcode=007032&seasoncode=E2021\n",
      "/competition/players/showplayer?pcode=005985&seasoncode=E2021\n",
      "/competition/players/showplayer?pcode=003108&seasoncode=E2021\n",
      "/competition/players/showplayer?pcode=007870&seasoncode=E2021\n",
      "/competition/players/showplayer?pcode=009006&seasoncode=E2021\n",
      "/competition/players/showplayer?pcode=009754&seasoncode=E2021\n",
      "/competition/players/showplayer?pcode=004866&seasoncode=E2021\n",
      "/competition/players/showplayer?pcode=007831&seasoncode=E2021\n",
      "/competition/players/showplayer?pcode=000925&seasoncode=E2021\n",
      "/competition/players/showplayer?pcode=004554&seasoncode=E2021\n",
      "/competition/players/showplayer?pcode=009866&seasoncode=E2021\n",
      "/competition/players/showplayer?pcode=007200&seasoncode=E2021\n",
      "/competition/players/showplayer?pcode=000956&seasoncode=E2021\n",
      "/competition/players/showplayer?pcode=009622&seasoncode=E2021\n",
      "/competition/players/showplayer?pcode=001926&seasoncode=E2021\n",
      "/competition/players/showplayer?pcode=006450&seasoncode=E2021\n",
      "/competition/players/showplayer?pcode=009863&seasoncode=E2021\n",
      "/competition/players/showplayer?pcode=011205&seasoncode=E2021\n",
      "/competition/players/showplayer?pcode=009846&seasoncode=E2021\n",
      "/competition/players/showplayer?pcode=005094&seasoncode=E2021\n",
      "/competition/players/showplayer?pcode=011196&seasoncode=E2021\n"
     ]
    }
   ],
   "source": [
    "for tag in player_tags_odd:\n",
    "    print(tag.find_all(\"a\")[0].get('href'))"
   ]
  },
  {
   "cell_type": "markdown",
   "id": "c1219009",
   "metadata": {},
   "source": [
    "#### Putting it all together"
   ]
  },
  {
   "cell_type": "code",
   "execution_count": 252,
   "id": "c6e8f117",
   "metadata": {},
   "outputs": [],
   "source": [
    "base_url = \"https://www.euroleague.net\"\n",
    "leaders_urls = [url_leaders_1,url_leaders_2]"
   ]
  },
  {
   "cell_type": "code",
   "execution_count": 290,
   "id": "5a21a809",
   "metadata": {},
   "outputs": [],
   "source": [
    "def players_urls():\n",
    "    players_url_list = []\n",
    "    for url in leaders_urls:\n",
    "        html_leaders = requests.get(url)\n",
    "        soup_leaders = BeautifulSoup(html_leaders.text, \"html5lib\")\n",
    "        player_tags_even = soup_leaders.find_all(\"table\")[0].find_all(\"tr\",class_=\"StatsAlternatingGridResults\")\n",
    "        player_tags_odd = soup_leaders.find_all(\"table\")[0].find_all(\"tr\",class_=\"StatsRowAlternatingGridResults\")\n",
    "        player_tags = player_tags_even + player_tags_odd\n",
    "        players_url_list.extend([tag.find_all(\"a\")[0].get('href') for tag in player_tags])\n",
    "    return players_url_list"
   ]
  },
  {
   "cell_type": "code",
   "execution_count": 291,
   "id": "e334b6a6",
   "metadata": {},
   "outputs": [],
   "source": [
    "players_url_list = players_urls()"
   ]
  },
  {
   "cell_type": "code",
   "execution_count": 292,
   "id": "e643114d",
   "metadata": {},
   "outputs": [
    {
     "data": {
      "text/plain": [
       "76"
      ]
     },
     "execution_count": 292,
     "metadata": {},
     "output_type": "execute_result"
    }
   ],
   "source": [
    "len(players_url_list)"
   ]
  },
  {
   "cell_type": "code",
   "execution_count": 293,
   "id": "f9f88236",
   "metadata": {},
   "outputs": [],
   "source": [
    "def create_soup(url):\n",
    "    html = requests.get(url)\n",
    "    soup = BeautifulSoup(html.text, \"html5lib\")\n",
    "    return soup"
   ]
  },
  {
   "cell_type": "code",
   "execution_count": 294,
   "id": "ec294f77",
   "metadata": {},
   "outputs": [],
   "source": [
    "def list_of_player_dicts():\n",
    "    player_list = []\n",
    "    players_url_list = players_urls()\n",
    "    for relative_url in players_url_list:\n",
    "        absolute_url = base_url + relative_url\n",
    "        soup = create_soup(absolute_url)\n",
    "        player_dict = player_dictionary_creation(soup)\n",
    "        player_list.append(player_dict)\n",
    "    return player_list"
   ]
  },
  {
   "cell_type": "code",
   "execution_count": 295,
   "id": "3c4c42c6",
   "metadata": {},
   "outputs": [],
   "source": [
    "Player_List = list_of_player_dicts()"
   ]
  },
  {
   "cell_type": "code",
   "execution_count": 296,
   "id": "ebffe7d5",
   "metadata": {},
   "outputs": [
    {
     "data": {
      "text/plain": [
       "76"
      ]
     },
     "execution_count": 296,
     "metadata": {},
     "output_type": "execute_result"
    }
   ],
   "source": [
    "len(Player_List)"
   ]
  },
  {
   "cell_type": "code",
   "execution_count": 317,
   "id": "7c6a8062",
   "metadata": {},
   "outputs": [
    {
     "data": {
      "text/plain": [
       "[{'name': ' SASHA VEZENKOV',\n",
       "  'position': 'Forward',\n",
       "  'height': ' 2.06',\n",
       "  'dob': ' 6 August, 1995',\n",
       "  'G': '9',\n",
       "  'GS': '9',\n",
       "  'Min': '260:42',\n",
       "  'Pts': '93',\n",
       "  '2FG': '23/44',\n",
       "  '3FG': '11/38',\n",
       "  'FT': '14/19',\n",
       "  'O': '13',\n",
       "  'D': '36',\n",
       "  'T': '49',\n",
       "  'As': '5',\n",
       "  'St': '10',\n",
       "  'To': '4',\n",
       "  'Fv': '3',\n",
       "  'Ag': '3',\n",
       "  'Cm': '13',\n",
       "  'Rv': '22',\n",
       "  'PIR': '109'},\n",
       " {'name': ' MALCOLM DELANEY',\n",
       "  'position': 'Guard',\n",
       "  'height': ' 1.91',\n",
       "  'dob': ' 11 March, 1989',\n",
       "  'G': '5',\n",
       "  'GS': '5',\n",
       "  'Min': '120:53',\n",
       "  'Pts': '51',\n",
       "  '2FG': '7/17',\n",
       "  '3FG': '8/21',\n",
       "  'FT': '13/18',\n",
       "  'O': '2',\n",
       "  'D': '10',\n",
       "  'T': '12',\n",
       "  'As': '16',\n",
       "  'St': '2',\n",
       "  'To': '9',\n",
       "  'Fv': '0',\n",
       "  'Ag': '1',\n",
       "  'Cm': '9',\n",
       "  'Rv': '15',\n",
       "  'PIR': '49'},\n",
       " {'name': ' JANIS STRELNIEKS',\n",
       "  'position': 'Guard',\n",
       "  'height': ' 1.91',\n",
       "  'dob': ' 1 September, 1989',\n",
       "  'G': '7',\n",
       "  'GS': '7',\n",
       "  'Min': '166:17',\n",
       "  'Pts': '71',\n",
       "  '2FG': '11/18',\n",
       "  '3FG': '14/32',\n",
       "  'FT': '7/8',\n",
       "  'O': '5',\n",
       "  'D': '15',\n",
       "  'T': '20',\n",
       "  'As': '12',\n",
       "  'St': '5',\n",
       "  'To': '10',\n",
       "  'Fv': '0',\n",
       "  'Ag': '2',\n",
       "  'Cm': '16',\n",
       "  'Rv': '11',\n",
       "  'PIR': '65'},\n",
       " {'name': ' IFFE LUNDBERG',\n",
       "  'position': 'Guard',\n",
       "  'height': ' 1.93',\n",
       "  'dob': ' 4 December, 1994',\n",
       "  'G': '9',\n",
       "  'GS': '8',\n",
       "  'Min': '206:22',\n",
       "  'Pts': '90',\n",
       "  '2FG': '25/45',\n",
       "  '3FG': '8/29',\n",
       "  'FT': '16/18',\n",
       "  'O': '8',\n",
       "  'D': '18',\n",
       "  'T': '26',\n",
       "  'As': '23',\n",
       "  'St': '7',\n",
       "  'To': '14',\n",
       "  'Fv': '0',\n",
       "  'Ag': '3',\n",
       "  'Cm': '18',\n",
       "  'Rv': '21',\n",
       "  'PIR': '89'},\n",
       " {'name': ' LUKAS LEKAVICIUS',\n",
       "  'position': 'Guard',\n",
       "  'height': ' 1.80',\n",
       "  'dob': ' 30 March, 1994',\n",
       "  'G': '9',\n",
       "  'GS': '1',\n",
       "  'Min': '197:08',\n",
       "  'Pts': '89',\n",
       "  '2FG': '27/57',\n",
       "  '3FG': '6/23',\n",
       "  'FT': '17/20',\n",
       "  'O': '2',\n",
       "  'D': '6',\n",
       "  'T': '8',\n",
       "  'As': '36',\n",
       "  'St': '3',\n",
       "  'To': '16',\n",
       "  'Fv': '0',\n",
       "  'Ag': '2',\n",
       "  'Cm': '18',\n",
       "  'Rv': '26',\n",
       "  'PIR': '76'},\n",
       " {'name': ' ELIE OKOBO',\n",
       "  'position': 'Guard',\n",
       "  'height': ' 1.91',\n",
       "  'dob': ' 23 October, 1997',\n",
       "  'G': '9',\n",
       "  'GS': '9',\n",
       "  'Min': '244:01',\n",
       "  'Pts': '173',\n",
       "  '2FG': '50/79',\n",
       "  '3FG': '19/41',\n",
       "  'FT': '16/20',\n",
       "  'O': '3',\n",
       "  'D': '33',\n",
       "  'T': '36',\n",
       "  'As': '32',\n",
       "  'St': '8',\n",
       "  'To': '34',\n",
       "  'Fv': '0',\n",
       "  'Ag': '2',\n",
       "  'Cm': '19',\n",
       "  'Rv': '31',\n",
       "  'PIR': '170'},\n",
       " {'name': ' VASILIJE MICIC',\n",
       "  'position': 'Guard',\n",
       "  'height': ' 1.96',\n",
       "  'dob': ' 13 January, 1994',\n",
       "  'G': '7',\n",
       "  'GS': '6',\n",
       "  'Min': '196:12',\n",
       "  'Pts': '118',\n",
       "  '2FG': '18/41',\n",
       "  '3FG': '21/44',\n",
       "  'FT': '19/22',\n",
       "  'O': '2',\n",
       "  'D': '12',\n",
       "  'T': '14',\n",
       "  'As': '29',\n",
       "  'St': '10',\n",
       "  'To': '27',\n",
       "  'Fv': '0',\n",
       "  'Ag': '6',\n",
       "  'Cm': '16',\n",
       "  'Rv': '26',\n",
       "  'PIR': '99'},\n",
       " {'name': ' NIKOLA MIROTIC',\n",
       "  'position': 'Forward',\n",
       "  'height': ' 2.08',\n",
       "  'dob': ' 11 February, 1991',\n",
       "  'G': '9',\n",
       "  'GS': '9',\n",
       "  'Min': '225:39',\n",
       "  'Pts': '149',\n",
       "  '2FG': '33/51',\n",
       "  '3FG': '18/35',\n",
       "  'FT': '29/34',\n",
       "  'O': '12',\n",
       "  'D': '39',\n",
       "  'T': '51',\n",
       "  'As': '12',\n",
       "  'St': '12',\n",
       "  'To': '9',\n",
       "  'Fv': '3',\n",
       "  'Ag': '1',\n",
       "  'Cm': '12',\n",
       "  'Rv': '29',\n",
       "  'PIR': '194'},\n",
       " {'name': ' DARRUN HILLIARD',\n",
       "  'position': 'Guard',\n",
       "  'height': ' 1.98',\n",
       "  'dob': ' 13 April, 1993',\n",
       "  'G': '9',\n",
       "  'GS': '6',\n",
       "  'Min': '248:38',\n",
       "  'Pts': '139',\n",
       "  '2FG': '23/48',\n",
       "  '3FG': '23/58',\n",
       "  'FT': '24/30',\n",
       "  'O': '2',\n",
       "  'D': '31',\n",
       "  'T': '33',\n",
       "  'As': '20',\n",
       "  'St': '14',\n",
       "  'To': '19',\n",
       "  'Fv': '2',\n",
       "  'Ag': '8',\n",
       "  'Cm': '22',\n",
       "  'Rv': '36',\n",
       "  'PIR': '129'},\n",
       " {'name': ' MAODO LO',\n",
       "  'position': 'Guard',\n",
       "  'height': ' 1.91',\n",
       "  'dob': ' 31 December, 1992',\n",
       "  'G': '9',\n",
       "  'GS': '6',\n",
       "  'Min': '210:52',\n",
       "  'Pts': '132',\n",
       "  '2FG': '23/47',\n",
       "  '3FG': '21/46',\n",
       "  'FT': '23/26',\n",
       "  'O': '2',\n",
       "  'D': '11',\n",
       "  'T': '13',\n",
       "  'As': '28',\n",
       "  'St': '7',\n",
       "  'To': '15',\n",
       "  'Fv': '1',\n",
       "  'Ag': '5',\n",
       "  'Cm': '10',\n",
       "  'Rv': '33',\n",
       "  'PIR': '132'}]"
      ]
     },
     "execution_count": 317,
     "metadata": {},
     "output_type": "execute_result"
    }
   ],
   "source": [
    "Player_List[20:30]"
   ]
  },
  {
   "cell_type": "markdown",
   "id": "6acee05e",
   "metadata": {},
   "source": [
    "#### Save the list as json file"
   ]
  },
  {
   "cell_type": "code",
   "execution_count": 318,
   "id": "dba2ffa6",
   "metadata": {},
   "outputs": [],
   "source": [
    "import json"
   ]
  },
  {
   "cell_type": "code",
   "execution_count": 319,
   "id": "ac821be8",
   "metadata": {},
   "outputs": [],
   "source": [
    "with open(\"Players.json\",\"w\") as f:\n",
    "    json.dump(Player_List,f)"
   ]
  },
  {
   "cell_type": "code",
   "execution_count": null,
   "id": "be462788",
   "metadata": {},
   "outputs": [],
   "source": []
  }
 ],
 "metadata": {
  "kernelspec": {
   "display_name": "Python 3",
   "language": "python",
   "name": "python3"
  },
  "language_info": {
   "codemirror_mode": {
    "name": "ipython",
    "version": 3
   },
   "file_extension": ".py",
   "mimetype": "text/x-python",
   "name": "python",
   "nbconvert_exporter": "python",
   "pygments_lexer": "ipython3",
   "version": "3.8.8"
  }
 },
 "nbformat": 4,
 "nbformat_minor": 5
}
